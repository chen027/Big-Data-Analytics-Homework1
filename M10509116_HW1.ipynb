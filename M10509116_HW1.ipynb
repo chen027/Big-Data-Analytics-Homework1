{
 "metadata": {
  "name": "",
  "signature": "sha256:78c842801cf95270c456c75e73f4b9d759cb8de376176e5fc3d8f43d2b3aefd3"
 },
 "nbformat": 3,
 "nbformat_minor": 0,
 "worksheets": [
  {
   "cells": [
    {
     "cell_type": "code",
     "collapsed": false,
     "input": [
      "print(__doc__)\n",
      "import numpy as np\n",
      "import matplotlib.pyplot as plt\n",
      "import pandas as pd\n",
      "from sklearn.datasets import make_classification\n",
      "from sklearn.ensemble import ExtraTreesClassifier\n",
      "malware_data = pd.read_csv('LargeTrain.csv')"
     ],
     "language": "python",
     "metadata": {},
     "outputs": []
    },
    {
     "cell_type": "code",
     "collapsed": false,
     "input": [
      "label = list(malware_data)\n",
      "#y:Label"
     ],
     "language": "python",
     "metadata": {},
     "outputs": []
    },
    {
     "cell_type": "code",
     "collapsed": false,
     "input": [
      "data = np.float32([malware_data[label[0]]])\n",
      "\n",
      "for x in range(1, len(label)):\n",
      "    label_name = label[x];\n",
      "    new_data = np.float32([malware_data[label_name]])\n",
      "    data = np.concatenate((data, new_data), axis=0)\n",
      "#X:Data"
     ],
     "language": "python",
     "metadata": {},
     "outputs": []
    },
    {
     "cell_type": "code",
     "collapsed": false,
     "input": [
      "# Build a forest and compute the feature importances\n",
      "forest = ExtraTreesClassifier(n_estimators=250,\n",
      "                              random_state=0)\n",
      "forest.fit(data, label)\n",
      "importances = forest.feature_importances_\n",
      "std = np.std([tree.feature_importances_ for tree in forest.estimators_],\n",
      "             axis=0)\n",
      "indices = np.argsort(importances)[::-1]"
     ],
     "language": "python",
     "metadata": {},
     "outputs": []
    },
    {
     "cell_type": "code",
     "collapsed": false,
     "input": [
      "# Print the feature ranking\n",
      "print(\"Feature ranking:\")\n",
      "\n",
      "for f in range(data.shape[1]):\n",
      "    print(\"%d. feature %d (%f)\" % (f + 1, indices[f], importances[indices[f]]))"
     ],
     "language": "python",
     "metadata": {},
     "outputs": []
    },
    {
     "cell_type": "code",
     "collapsed": false,
     "input": [
      "# Plot the feature importances of the forest\n",
      "plt.figure()\n",
      "plt.title(\"Feature importances\")\n",
      "plt.bar(range(data.shape[1]), importances[indices],\n",
      "       color=\"r\", yerr=std[indices], align=\"center\")\n",
      "plt.xticks(range(data.shape[1]), indices)\n",
      "plt.xlim([-1, data.shape[1]])\n",
      "plt.show()"
     ],
     "language": "python",
     "metadata": {},
     "outputs": []
    }
   ],
   "metadata": {}
  }
 ]
}